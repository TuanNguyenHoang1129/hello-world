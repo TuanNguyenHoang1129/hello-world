{
 "cells": [
  {
   "cell_type": "code",
   "execution_count": null,
   "id": "65fecac6",
   "metadata": {},
   "outputs": [],
   "source": [
    "import pandas as pd\n",
    "import datetime\n",
    "import matplotlib.pyplot as plt"
   ]
  },
  {
   "cell_type": "code",
   "execution_count": null,
   "id": "4ccab7f7",
   "metadata": {},
   "outputs": [],
   "source": [
    "# Import functions:\n",
    "from Function import get_data\n",
    "import pandas as pd"
   ]
  },
  {
   "cell_type": "code",
   "execution_count": null,
   "id": "0291ae30",
   "metadata": {},
   "outputs": [],
   "source": [
    "#Create connection to database:\n",
    "mongo_client = get_data.get_client()"
   ]
  },
  {
   "cell_type": "code",
   "execution_count": null,
   "id": "eec056cb",
   "metadata": {},
   "outputs": [],
   "source": [
    "# Call metastock data:\n",
    "meta_data = get_data.get_datbase(mongo_client,data_source='metastock')\n",
    "meta_data"
   ]
  },
  {
   "cell_type": "code",
   "execution_count": null,
   "id": "83d40805",
   "metadata": {},
   "outputs": [],
   "source": [
    "trading_data = get_data.get_datbase(mongo_client,data_source='tradingview')\n",
    "trading_data"
   ]
  },
  {
   "cell_type": "code",
   "execution_count": null,
   "id": "da184f54",
   "metadata": {},
   "outputs": [],
   "source": [
    "df = get_data.fetch_meta(symbol= \"VNINDEX\",mongo_data=meta_data,\n",
    "                           type_='EOD', kind='index',marketdivision='',\n",
    "                           start='2000/01/01',stop='now')"
   ]
  },
  {
   "cell_type": "code",
   "execution_count": null,
   "id": "a33de5c2",
   "metadata": {},
   "outputs": [],
   "source": []
  },
  {
   "cell_type": "code",
   "execution_count": null,
   "id": "cfd0f12a",
   "metadata": {},
   "outputs": [],
   "source": []
  },
  {
   "cell_type": "code",
   "execution_count": null,
   "id": "1fb21145",
   "metadata": {},
   "outputs": [],
   "source": []
  },
  {
   "cell_type": "code",
   "execution_count": null,
   "id": "ac472c95",
   "metadata": {},
   "outputs": [],
   "source": []
  },
  {
   "cell_type": "code",
   "execution_count": null,
   "id": "841da087",
   "metadata": {},
   "outputs": [],
   "source": []
  },
  {
   "cell_type": "code",
   "execution_count": null,
   "id": "2b9a2138",
   "metadata": {},
   "outputs": [],
   "source": [
    "sector_tickers = {\n",
    "    \"8300\": \"Ngân hàng\",\n",
    "    \"8600\": \"Bất Động Sản\",\n",
    "    \"8900\": \"Chứng khoán\"}\n"
   ]
  },
  {
   "cell_type": "code",
   "execution_count": null,
   "id": "793c4d7a",
   "metadata": {},
   "outputs": [],
   "source": [
    "for key in sector_tickers:\n",
    "    ticker, desc = key, sector_tickers[key]"
   ]
  },
  {
   "cell_type": "code",
   "execution_count": null,
   "id": "2cbb1c85",
   "metadata": {},
   "outputs": [],
   "source": [
    "price_column = \"close\"\n",
    "date_column = \"date\""
   ]
  },
  {
   "cell_type": "code",
   "execution_count": null,
   "id": "8af44820",
   "metadata": {},
   "outputs": [],
   "source": [
    "sp_data = get_data.fetch_meta(symbol= \"VNINDEX\",mongo_data=meta_data,\n",
    "                           type_='EOD', kind='index',marketdivision='',\n",
    "                           start='2010/01/01',stop='now')\n",
    "normal_sp_close = (sp_data['close'] - sp_data['close'].min())/ \\\n",
    "                  (sp_data['close'].max() - sp_data['close'].min())"
   ]
  },
  {
   "cell_type": "code",
   "execution_count": null,
   "id": "22c3107d",
   "metadata": {},
   "outputs": [],
   "source": [
    "for key in sector_tickers:\n",
    "    ticker, desc = key, sector_tickers[key]\n",
    "    comp_data = get_data.fetch_meta(symbol= ticker,mongo_data=meta_data,\n",
    "                           type_='EOD', kind='industry',marketdivision='',\n",
    "                           start='2010/01/01',stop='now')\n",
    "    normal_comp_data = (comp_data['close'] - comp_data['close'].min())/ \\\n",
    "                       (comp_data['close'].max() - comp_data['close'].min())\n",
    "    divergence = normal_comp_data - normal_sp_close\n",
    "    ## Divergence = 0 -> no divergence between S&P and Sector (or stock)\n",
    "    ## Divergence < 0 -> sector gains less than S&P gains (sector may be undervalued)\n",
    "    ## Divergence > 0 -> sector gains greater than S&P gains (sector may be overvalued)\n",
    "    div, = plt.plot(comp_data.index, divergence, label=\"Divergence\")\n",
    "    sp, = plt.plot(sp_data.index, normal_sp_close, label=\"VNINDEX\")\n",
    "    comp, = plt.plot(comp_data.index, normal_comp_data, label=\"{} - {}\".format(key, desc))\n",
    "    plt.legend(handles=[div, sp, comp])\n",
    "    plt.axhline(0, color=\"black\")\n",
    "#     plt.savefig(\"DiscountedSectors/plots/{}.png\".format(ticker))\n",
    "#     plt.clf()\n",
    "    plt.show()"
   ]
  },
  {
   "cell_type": "code",
   "execution_count": null,
   "id": "55fd8453",
   "metadata": {},
   "outputs": [],
   "source": []
  },
  {
   "cell_type": "code",
   "execution_count": null,
   "id": "9abd327f",
   "metadata": {},
   "outputs": [],
   "source": []
  },
  {
   "cell_type": "code",
   "execution_count": null,
   "id": "beb899a4",
   "metadata": {},
   "outputs": [],
   "source": []
  },
  {
   "cell_type": "code",
   "execution_count": null,
   "id": "fada6817",
   "metadata": {},
   "outputs": [],
   "source": []
  },
  {
   "cell_type": "code",
   "execution_count": null,
   "id": "30db2284",
   "metadata": {},
   "outputs": [],
   "source": []
  },
  {
   "cell_type": "code",
   "execution_count": null,
   "id": "2a6c5648",
   "metadata": {},
   "outputs": [],
   "source": []
  }
 ],
 "metadata": {
  "kernelspec": {
   "display_name": "Python 3 (ipykernel)",
   "language": "python",
   "name": "python3"
  },
  "language_info": {
   "codemirror_mode": {
    "name": "ipython",
    "version": 3
   },
   "file_extension": ".py",
   "mimetype": "text/x-python",
   "name": "python",
   "nbconvert_exporter": "python",
   "pygments_lexer": "ipython3",
   "version": "3.9.13"
  }
 },
 "nbformat": 4,
 "nbformat_minor": 5
}
