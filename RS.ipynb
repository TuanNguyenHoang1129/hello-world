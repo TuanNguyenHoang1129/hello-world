{
 "cells": [
  {
   "cell_type": "code",
   "execution_count": null,
   "id": "1f3ebe51",
   "metadata": {},
   "outputs": [],
   "source": [
    "# Imports\n",
    "import yfinance as yf\n",
    "import pandas as pd\n",
    "from pandas_datareader import data as pdr\n",
    "from yahoo_fin import stock_info as si\n",
    "import datetime\n",
    "import time"
   ]
  },
  {
   "cell_type": "code",
   "execution_count": null,
   "id": "d092b613",
   "metadata": {},
   "outputs": [],
   "source": [
    "# Override yfinance API\n",
    "yf.pdr_override()\n",
    "import pandas as pd"
   ]
  },
  {
   "cell_type": "code",
   "execution_count": null,
   "id": "4b848d17",
   "metadata": {},
   "outputs": [],
   "source": [
    "# Get tickers for all S&P 500 stocks and replace \".\" with \"-\" for compatibility with Yahoo Finance\n",
    "sp500_tickers = si.tickers_sp500()\n",
    "sp500_tickers = [ticker.replace(\".\", \"-\") for ticker in sp500_tickers[:20]]"
   ]
  },
  {
   "cell_type": "code",
   "execution_count": null,
   "id": "d8a7fc94",
   "metadata": {},
   "outputs": [],
   "source": [
    "# Define S&P 500 index\n",
    "sp500_index = '^GSPC'"
   ]
  },
  {
   "cell_type": "code",
   "execution_count": null,
   "id": "95453c63",
   "metadata": {},
   "outputs": [],
   "source": [
    "# Define date range for stock data\n",
    "start_date = datetime.datetime.now() - datetime.timedelta(days=365)\n",
    "end_date = datetime.date.today()\n"
   ]
  },
  {
   "cell_type": "code",
   "execution_count": null,
   "id": "53639792",
   "metadata": {},
   "outputs": [],
   "source": [
    "# Create empty list to store relative returns for each stock\n",
    "relative_returns = []"
   ]
  },
  {
   "cell_type": "code",
   "execution_count": null,
   "id": "8d95a17e",
   "metadata": {},
   "outputs": [],
   "source": [
    "# Retrieve historical price data for the S&P 500 index\n",
    "sp500_df = pdr.get_data_yahoo(sp500_index, start_date, end_date)\n",
    "sp500_df['Percent Change'] = sp500_df['Adj Close'].pct_change()\n",
    "sp500_returns = sp500_df['Percent Change'].cumsum()\n",
    "sp500_return = sp500_returns.iloc[-1]"
   ]
  },
  {
   "cell_type": "code",
   "execution_count": null,
   "id": "d6880c34",
   "metadata": {},
   "outputs": [],
   "source": [
    "sp500_return"
   ]
  },
  {
   "cell_type": "code",
   "execution_count": null,
   "id": "fa65639d",
   "metadata": {},
   "outputs": [],
   "source": [
    "# Iterate over all S&P 500 stocks to calculate their relative returns relative to the S&P 500\n",
    "for ticker in sp500_tickers:\n",
    "    # Download historical data as CSV for each stock to speed up the process\n",
    "    stock_df = pdr.get_data_yahoo(ticker, start_date, end_date)\n",
    "    stock_df.to_csv(f'{ticker}.csv')\n",
    "\n",
    "    # Calculate percent change column\n",
    "    stock_df['Percent Change'] = stock_df['Adj Close'].pct_change()\n",
    "\n",
    "    # Calculate the relative return with double weight for the most recent quarter\n",
    "    stock_returns = stock_df['Percent Change'].cumsum()\n",
    "    stock_return = (stock_returns.iloc[-1] * 2 + stock_returns.iloc[-63]) / 3  # Double weight for the most recent quarter\n",
    "\n",
    "    relative_return = round(stock_return / sp500_return, 2)\n",
    "    relative_returns.append(relative_return)\n",
    "\n",
    "    # Print relative return for each stock\n",
    "    print(f'Ticker: {ticker}; Relative Return against S&P 500: {relative_return}\\n')\n",
    "\n",
    "    # Pause for 1 second to avoid overloading the server with requests\n",
    "    time.sleep(1)"
   ]
  },
  {
   "cell_type": "code",
   "execution_count": null,
   "id": "c90046ce",
   "metadata": {},
   "outputs": [],
   "source": [
    "rs_df = pd.DataFrame(list(zip(sp500_tickers, relative_returns)), columns=['Ticker', 'Relative Return'])\n",
    "rs_df['RS_Rating'] = rs_df[\"Relative Return\"].rank(pct=True) * 100"
   ]
  },
  {
   "cell_type": "code",
   "execution_count": null,
   "id": "a38c7a30",
   "metadata": {},
   "outputs": [],
   "source": [
    "# Print RS ratings for all stocks\n",
    "print(rs_df)\n"
   ]
  }
 ],
 "metadata": {
  "kernelspec": {
   "display_name": "Python 3 (ipykernel)",
   "language": "python",
   "name": "python3"
  },
  "language_info": {
   "codemirror_mode": {
    "name": "ipython",
    "version": 3
   },
   "file_extension": ".py",
   "mimetype": "text/x-python",
   "name": "python",
   "nbconvert_exporter": "python",
   "pygments_lexer": "ipython3",
   "version": "3.11.0"
  }
 },
 "nbformat": 4,
 "nbformat_minor": 5
}
