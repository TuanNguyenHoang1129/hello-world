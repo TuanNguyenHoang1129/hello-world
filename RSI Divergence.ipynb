{
 "cells": [
  {
   "cell_type": "code",
   "execution_count": null,
   "id": "92edd54c",
   "metadata": {},
   "outputs": [],
   "source": [
    "import pandas as pd\n",
    "import numpy as np\n",
    "from datetime import datetime\n",
    "import math\n",
    "import matplotlib.pyplot as plt\n",
    "from tvdatafeed.tvDatafeed.main import *\n",
    "import pandas_ta as pandas_ta\n",
    "import Talib\n",
    "from stockstats import StockDataFrame\n",
    "import vectorbt as vbt\n",
    "import plotly.graph_objects as go\n",
    "from plotly.subplots import make_subplots\n",
    "import plotly.subplots as ms\n",
    "import warnings\n",
    "import timeit\n",
    "from Function import get_data\n",
    "from Function import handleRaw"
   ]
  },
  {
   "attachments": {},
   "cell_type": "markdown",
   "id": "569a2701",
   "metadata": {},
   "source": [
    "# Import from Tradingview (Old)"
   ]
  },
  {
   "cell_type": "code",
   "execution_count": null,
   "id": "4eb9bab8",
   "metadata": {},
   "outputs": [],
   "source": [
    "# Tài khoản và mật khẩu\n",
    "USERNAME = 'tradingpro.112233@gmail.com'\n",
    "PASSWORD = 'Vuatrochoi123'"
   ]
  },
  {
   "cell_type": "code",
   "execution_count": null,
   "id": "66175707",
   "metadata": {},
   "outputs": [],
   "source": [
    "def return_time(time):\n",
    "    try:\n",
    "       if time == \"1h\":\n",
    "           return Interval.in_1_hour\n",
    "       elif time ==\"15m\":\n",
    "           return Interval.in_15_minute\n",
    "       elif time == \"30m\":\n",
    "           return Interval.in_30_minute\n",
    "       elif time == \"1m\":\n",
    "           return Interval.in_1_minute\n",
    "       elif time == \"5m\":\n",
    "           return Interval.in_5_minute\n",
    "       elif time == \"4h\":\n",
    "           return Interval.in_4_hour\n",
    "       elif time == \"2h\":\n",
    "           return Interval.in_2_hour\n",
    "       elif time == \"3h\":\n",
    "           return Interval.in_3_hour\n",
    "       elif time == \"3m\":\n",
    "           return Interval.in_3_minute\n",
    "       elif time == \"45m\":\n",
    "           return Interval.in_45_minute\n",
    "       elif time == \"1d\":\n",
    "           return Interval.in_daily\n",
    "       elif time == \"1w\":\n",
    "           return Interval.in_weekly\n",
    "       elif time == \"1M\":\n",
    "           return Interval.in_monthly\n",
    "\n",
    "    except:\n",
    "        return \"Unknown time format\""
   ]
  },
  {
   "cell_type": "code",
   "execution_count": null,
   "id": "d93d7fae",
   "metadata": {},
   "outputs": [],
   "source": [
    "tv = TvDatafeed(USERNAME, PASSWORD)\n",
    "\n",
    "# Get historical data\n",
    "input_message = 'Symbol: '\n",
    "symbol = str(input(input_message))\n",
    "input_message = 'Exchange: '\n",
    "exchange = str(input(input_message))\n",
    "input_message = \"Interval_time ['1m', '3m', '5m', '15m', '30m', '45m', '1h', '2h', '3h', '4h', '1d', '1w', '1M']\"\n",
    "interval_time = str(input(input_message)) # Edit to user can change\n",
    "n_bars = 20000 # No of bars to download, max 5000. Defaults to \n",
    "\n",
    "if not symbol:\n",
    "  symbol = 'DCM'\n",
    "  \n",
    "if not exchange:\n",
    "  exchange = 'HOSE'\n",
    "if not interval_time:\n",
    "  interval_time = '4h'\n",
    "interval_time = return_time(interval_time)\n",
    "### Download from multi sources\n",
    "print('-------------------')\n",
    "print(f\"Symbol: {symbol} - Exchange: {exchange}\")\n",
    "df = tv.get_hist(symbol=symbol, exchange=exchange, interval=interval_time, n_bars=n_bars)\n",
    "\n",
    "# Data VN Index:\n",
    "historical_vnindex_price_df = tv.get_hist(symbol='VNINDEX', exchange='HOSE', interval=interval_time, n_bars=n_bars)\n",
    "#historical_us_price_df = tv.get_hist(symbol='tsla', exchange='NASDAQ', interval=interval_time, n_bars=n_bars)\n",
    "row_count, column_count = df.shape\n",
    "print(f\"Download done with {row_count} rows and {column_count} columns\")\n",
    "print(df.values.tolist())\n",
    "\n",
    "ohlc = df"
   ]
  },
  {
   "cell_type": "code",
   "execution_count": null,
   "id": "46cbd1fc",
   "metadata": {
    "scrolled": false
   },
   "outputs": [],
   "source": [
    "df"
   ]
  },
  {
   "attachments": {},
   "cell_type": "markdown",
   "id": "33c7c476",
   "metadata": {},
   "source": [
    "# Get data from Metastock"
   ]
  },
  {
   "cell_type": "code",
   "execution_count": null,
   "id": "a41cfca4",
   "metadata": {},
   "outputs": [],
   "source": [
    "mongo_client = get_data.get_client()"
   ]
  },
  {
   "cell_type": "code",
   "execution_count": null,
   "id": "4aee34df",
   "metadata": {},
   "outputs": [],
   "source": [
    "meta_data = get_data.get_datbase(mongo_client,data_source='metastock')\n",
    "meta_data"
   ]
  },
  {
   "cell_type": "code",
   "execution_count": null,
   "id": "4b288ab8",
   "metadata": {},
   "outputs": [],
   "source": [
    "df = get_data.fetch_meta(symbol='VNINDEX',mongo_data=meta_data,\n",
    "                           type_='EOD', kind='index',marketdivision='',\n",
    "                           start='2000/01/01',stop='now')\n",
    "df"
   ]
  },
  {
   "cell_type": "code",
   "execution_count": null,
   "id": "b69dfc7e",
   "metadata": {},
   "outputs": [],
   "source": [
    "df = pd.read_csv(r'C:\\\\Users\\\\Admin\\\\OneDrive\\\\Note\\\\backtest.csv')"
   ]
  },
  {
   "attachments": {},
   "cell_type": "markdown",
   "id": "25b90857",
   "metadata": {},
   "source": [
    "# Define some functions"
   ]
  },
  {
   "cell_type": "code",
   "execution_count": null,
   "id": "718761f3",
   "metadata": {},
   "outputs": [],
   "source": [
    "def pivotID(data, l, m, n):\n",
    "    if l - m - n < 0 or l >= len(data):\n",
    "        return 0\n",
    "    \n",
    "    pivotID_low = 1\n",
    "    pivotID_high = 1\n",
    "    \n",
    "    for i in range(l - m - n, l + 1):\n",
    "        if (data.low[l - m] > data.low[i]):\n",
    "            pivotID_low = 0\n",
    "        if (data.high[l - m] < data.high[i]):\n",
    "            pivotID_high = 0\n",
    "    if pivotID_low and pivotID_high:\n",
    "        return 3\n",
    "    elif pivotID_low:\n",
    "        return 1\n",
    "    elif pivotID_high:\n",
    "        return 2\n",
    "    else:\n",
    "        return 0"
   ]
  },
  {
   "cell_type": "code",
   "execution_count": null,
   "id": "176d8f6a",
   "metadata": {},
   "outputs": [],
   "source": [
    "def RSIpivotID(data, l, m, n):\n",
    "    if l - m - n < 0 or l >= len(data):\n",
    "        return 0\n",
    "\n",
    "    RSIpivotID_low = 1\n",
    "    RSIpivotID_high = 1\n",
    "    for i in range(l - m - n, l + 1):\n",
    "        if(data.RSI[l - m] > data.RSI[i]):\n",
    "            RSIpivotID_low = 0\n",
    "        if(data.RSI[l -  m] < data.RSI[i]):\n",
    "            RSIpivotID_high = 0\n",
    "    if RSIpivotID_low and RSIpivotID_high:\n",
    "        return 3\n",
    "    elif RSIpivotID_low:\n",
    "        return 1\n",
    "    elif RSIpivotID_high:\n",
    "        return 2\n",
    "    else:\n",
    "        return 0 "
   ]
  },
  {
   "cell_type": "code",
   "execution_count": null,
   "id": "b427e191",
   "metadata": {},
   "outputs": [],
   "source": [
    "def holding_period(entries):\n",
    "    df2 = pd.DataFrame(entries).reset_index()\n",
    "    df2 = df2.set_axis(['datetime','entry'], axis = 1, copy = False)\n",
    "    df2['pos'] = pd.Series(dtype = float)\n",
    "    df2['close'] = pd.DataFrame(df['close'].values)\n",
    "    for a in df2.index:\n",
    "        if df2.at[a, 'entry'] == True:\n",
    "            df2.at[a, 'pos'] = 1\n",
    "    df2['pos_shift'] = df2['pos'].shift(1)\n",
    "    df2['check_entry'] = df2['datetime'][(~df2['pos'].isna()) & (df2['pos_shift'].isna())]\n",
    "    df2['check_entry'] = df2['check_entry'].fillna(method = 'ffill')\n",
    "    df2['holding'] = df2['datetime'] - df2['check_entry']\n",
    "    df2['check_price'] = df2['close'][(~df2['pos'].isna()) & (df2['pos_shift'].isna())]\n",
    "    df2['check_price'] = df2['check_price'].fillna(method = 'ffill')\n",
    "    df2['return'] = (df2['close'] - df2['check_price'])/(df2['check_price'])\n",
    "    df2= df2.drop(columns = ['check_price', 'pos', 'pos_shift', 'check_entry'])\n",
    "    return df2"
   ]
  },
  {
   "cell_type": "code",
   "execution_count": null,
   "id": "f4481a92",
   "metadata": {},
   "outputs": [],
   "source": [
    "stats = ['Start', 'End', 'Period', 'Start Value', 'End Value', 'Total Return [%]', 'Benchmark Return [%]',\n",
    "         'Max Gross Exposure [%]', 'Total Fees Paid', 'Max Drawdown [%]', 'Max Drawdown Duration', 'Total Trades',\n",
    "         'Total Closed Trades', 'Total Open Trades', 'Open Trade PnL', 'Win Rate [%]', 'Best Trade [%]', 'Worst Trade [%]',\n",
    "         'Avg Winning Trade [%]', 'Avg Losing Trade [%]', 'Avg Winning Trade Duration', 'Avg Losing Trade Duration',\n",
    "         'Profit Factor', 'Expectancy', 'Sharpe Ratio', 'Calmar Ratio', 'Omega Ratio', 'Sortino Ratio']"
   ]
  },
  {
   "attachments": {},
   "cell_type": "markdown",
   "id": "d704227a",
   "metadata": {},
   "source": [
    "# Get RSI Divergence and Loop with holding period for 1 stock / VNINDEX"
   ]
  },
  {
   "cell_type": "code",
   "execution_count": null,
   "id": "4d4c62d5",
   "metadata": {},
   "outputs": [],
   "source": [
    "warnings.simplefilter('ignore', np.RankWarning)"
   ]
  },
  {
   "cell_type": "code",
   "execution_count": null,
   "id": "2b5203f1",
   "metadata": {},
   "outputs": [],
   "source": [
    "df1.index[0]"
   ]
  },
  {
   "cell_type": "code",
   "execution_count": null,
   "id": "26de164a",
   "metadata": {},
   "outputs": [],
   "source": [
    "def rsi_div(df):\n",
    "    rsi = df.ta.rsi(close = df['close'], length = 14)\n",
    "    df = pd.concat([df, rsi], axis = 1)\n",
    "    \n",
    "    df = df.rename(columns = {'RSI_14': 'RSI'})\n",
    "    \n",
    "    df['Pivot'] = df.apply(lambda x: pivotID(df, x.name, 5, 0), axis = 1)\n",
    "    df['RSI_Pivot'] = df.apply(lambda x: RSIpivotID(df, x.name, 5, 0), axis = 1)\n",
    "    \n",
    "    backcdl = 80\n",
    "    \n",
    "    for j in range(df.index[0] + backcdl + 1, df.index[-1] + 1):\n",
    "        maxim = np.array([])\n",
    "        minim = np.array([])\n",
    "        xxmin = np.array([])\n",
    "        xxmax = np.array([])\n",
    "\n",
    "        maximRSI = np.array([])\n",
    "        minimRSI = np.array([])\n",
    "        xxminRSI = np.array([])\n",
    "        xxmaxRSI = np.array([])\n",
    "\n",
    "        for i in range(j - backcdl, j + 1):\n",
    "            if df.loc[i, 'Pivot'] == 1:\n",
    "                minim = np.append(minim, df.iloc[i].low)\n",
    "                xxmin = np.append(xxmin, i) #could be i instead df.iloc[i].name\n",
    "            if df.loc[i, 'Pivot'] == 2:\n",
    "                maxim = np.append(maxim, df.iloc[i].high)\n",
    "                xxmax = np.append(xxmax, i) # df.iloc[i].name\n",
    "            if df.loc[i, 'RSI_Pivot'] == 1:\n",
    "                minimRSI = np.append(minimRSI, df.iloc[i].RSI)\n",
    "                xxminRSI = np.append(xxminRSI, df.iloc[i].name)\n",
    "            if df.loc[i, 'RSI_Pivot'] == 2:\n",
    "                maximRSI = np.append(maximRSI, df.iloc[i].RSI)\n",
    "                xxmaxRSI = np.append(xxmaxRSI, df.iloc[i].name)\n",
    "\n",
    "        slmin, intercmin = np.polyfit(xxmin, minim, 1)\n",
    "        slmax, intercmax = np.polyfit(xxmax, maxim, 1)\n",
    "        slminRSI, intercminRSI = np.polyfit(xxminRSI, minimRSI, 1)\n",
    "        slmaxRSI, intercmaxRSI = np.polyfit(xxmaxRSI, maximRSI, 1)\n",
    "\n",
    "        df.loc[j, 'Slope min'] = slmin\n",
    "        df.loc[j, 'Slope max'] = slmax\n",
    "        df.loc[j, 'Slope RSI min'] = slminRSI\n",
    "        df.loc[j, 'Slope RSI max'] = slmaxRSI\n",
    "    \n",
    "    for i in df.index:\n",
    "        if df.loc[i, 'Pivot'] == 1 or df.loc[i, 'RSI_Pivot'] == 1:\n",
    "            if df.loc[i, 'Slope min'] < 0 and df.loc[i, 'Slope RSI min'] > 0:\n",
    "                df.loc[i, 'Bull Signal'] = 100\n",
    "            # elif df.loc[i, 'Slope min'] == 0 and df.loc[i, 'Slope RSI min'] > 0:\n",
    "            #     df.loc[i, 'Bull Signal'] = 100\n",
    "            # elif df.loc[i, 'Slope min'] < 0 and df.loc[i, 'Slope RSI min'] == 0:\n",
    "            #     df.loc[i, 'Bull Signal'] = 100\n",
    "            else:\n",
    "                df.loc[i, 'Bull Signal'] = 0\n",
    "        else:\n",
    "            df.loc[i, 'Bull Signal'] = 0\n",
    "        if df.loc[i, 'Pivot'] == 2 or df.loc[i, 'RSI_Pivot'] == 2:\n",
    "            if df.loc[i, 'Slope max'] > 0 and df.loc[i, 'Slope RSI max'] < 0:\n",
    "                df.loc[i, 'Bear Signal'] = -100\n",
    "            # elif df.loc[i, 'Slope max'] == 0 and df.loc[i, 'Slope RSI max'] < 0:\n",
    "            #     df.loc[i, 'Bear Signal'] = -100\n",
    "            # elif df.loc[i, 'Slope max'] > 0 and df.loc[i, 'Slope RSI max'] == 0:\n",
    "            #     df.loc[i, 'Bear Signal'] = -100\n",
    "            else:\n",
    "                df.loc[i, 'Bear Signal'] = 0\n",
    "        else:\n",
    "            df.loc[i, 'Bear Signal'] = 0\n",
    "    \n",
    "    return df"
   ]
  },
  {
   "cell_type": "code",
   "execution_count": null,
   "id": "7a56b43f",
   "metadata": {},
   "outputs": [],
   "source": [
    "df = rsi_div(df)\n",
    "df"
   ]
  },
  {
   "cell_type": "code",
   "execution_count": null,
   "id": "8d4a2200",
   "metadata": {},
   "outputs": [],
   "source": [
    "df[500:550]"
   ]
  },
  {
   "cell_type": "code",
   "execution_count": null,
   "id": "219d067b",
   "metadata": {},
   "outputs": [],
   "source": [
    "df = pd.read_csv(r'C:\\\\Users\\\\Admin\\\\OneDrive\\\\Note\\\\backtest.csv')"
   ]
  },
  {
   "cell_type": "code",
   "execution_count": null,
   "id": "db27d14f",
   "metadata": {},
   "outputs": [],
   "source": [
    "df1 = df[500:1000]\n",
    "df1"
   ]
  },
  {
   "cell_type": "code",
   "execution_count": null,
   "id": "ad9407cb",
   "metadata": {},
   "outputs": [],
   "source": [
    "len(df1.index)"
   ]
  },
  {
   "cell_type": "code",
   "execution_count": null,
   "id": "6bfe096a",
   "metadata": {},
   "outputs": [],
   "source": [
    "df1 = rsi_div(df1)\n",
    "df1"
   ]
  },
  {
   "cell_type": "code",
   "execution_count": null,
   "id": "0b42d54f",
   "metadata": {},
   "outputs": [],
   "source": [
    "df1[500:550]"
   ]
  },
  {
   "cell_type": "code",
   "execution_count": null,
   "id": "82fee392",
   "metadata": {},
   "outputs": [],
   "source": [
    "df = df.set_index('time')"
   ]
  },
  {
   "cell_type": "code",
   "execution_count": null,
   "id": "87192ebe",
   "metadata": {},
   "outputs": [],
   "source": [
    "# Bullish Strategy with holding period\n",
    "df_stats = pd.DataFrame(index = stats)\n",
    "for m in (3, 5, 7, 10):\n",
    "    entries = (df['Bull Signal'].shift(1) == 100)\n",
    "    exits = (holding_period(entries)['holding'].dt.days >= m)\n",
    "    \n",
    "    bt_pf = vbt.Portfolio.from_signals(df['close'], entries, exits,  direction = 'longonly', accumulate = 'addonly',\n",
    "                                           sl_stop = 0.06, sl_trail = True, tp_stop = 0.06, fees = 0.00, freq = '4h')\n",
    "    a = bt_pf.stats()\n",
    "    df_stats = pd.concat([df_stats, a], axis = 1)\n",
    "df_stats"
   ]
  },
  {
   "cell_type": "code",
   "execution_count": null,
   "id": "a06605ac",
   "metadata": {},
   "outputs": [],
   "source": [
    "# Bearish Strategy with holding period\n",
    "df_stats = pd.DataFrame(index = stats)\n",
    "for m in (3, 5, 7, 10):\n",
    "    entries = (df['Bear Signal'].shift(1) == -100)\n",
    "    exits = (holding_period(entries)['holding'].dt.days >= m)\n",
    "    \n",
    "    bt_pf = vbt.Portfolio.from_signals(df['close'], entries, exits,  direction = 'shortonly', accumulate = 'addonly',\n",
    "                                           sl_stop = 0.06, sl_trail = True, tp_stop = 0.06, fees = 0.00, freq = '4h')\n",
    "    a = bt_pf.stats()\n",
    "    df_stats = pd.concat([df_stats, a], axis = 1)\n",
    "df_stats"
   ]
  },
  {
   "cell_type": "code",
   "execution_count": null,
   "id": "657354d8",
   "metadata": {},
   "outputs": [],
   "source": [
    "# Plot candlestick chart and RSI line\n",
    "df_pl = df[0:1000]\n",
    "fig = ms.make_subplots(rows = 3, cols = 1, shared_xaxes = True, shared_yaxes = False, vertical_spacing = 0)\n",
    "fig.append_trace(go.Candlestick(x = df_pl.index, open = df_pl['open'], high = df_pl['high'], low = df_pl['low'],\n",
    "                                close = df_pl['close'], name = 'Candlestick'), row = 1, col = 1)\n",
    "fig.append_trace(go.Scatter(x = df_pl.index, y = df_pl['RSI'], name = 'RSI'), row = 2, col = 1)\n",
    "fig.update_layout(xaxis_rangeslider_visible = False)\n",
    "fig.show()"
   ]
  },
  {
   "cell_type": "code",
   "execution_count": null,
   "id": "71dd1f91",
   "metadata": {},
   "outputs": [],
   "source": [
    "# Optimize SL, TP Strategy 1\n",
    "\n",
    "\n",
    "entries = (df['Bull Signal'].shift(1) == 100)\n",
    "exits = (holding_period(entries)['holding'].dt.days >= 3)\n",
    "# entry_points = np.linspace(1,45, num=num)\n",
    "# exit_points = np.linspace(55,99, num=num)\n",
    "\n",
    "# grid = np.array(np.meshgrid(entry_points, exit_points)).T.reshape(-1,2)\n",
    "\n",
    "# entries = rsi.rsi_crossed_below(10)\n",
    "# exits = rsi.rsi_crossed_above(70)\n",
    "\n",
    "sl_points = np.arange(0.1,1,0.1)\n",
    "tp_points = np.arange(0.1,1,0.1)\n",
    "\n",
    "grid = np.array(np.meshgrid(sl_points, tp_points)).T.reshape(-1,2)\n",
    "\n",
    "sl_points = grid[:, [0]].flatten()\n",
    "tp_points = grid[:, [1]].flatten()\n",
    "\n",
    "sl = pd.DataFrame([sl_points],columns = [sl_points])\n",
    "sl = sl.rename_axis(columns = 'stoploss')\n",
    "tp = pd.DataFrame([tp_points],columns = [tp_points])\n",
    "tp = tp.rename_axis(columns = 'takeprofit')\n",
    "\n",
    "# grid = np.array(np.meshgrid(sl_points, tp_points)).T.reshape(-1,2)\n",
    "# sl = rsi.rsi_crossed_below(list(grid[:, [0]]))\n",
    "# tp = rsi.rsi_crossed_above(list(grid[:, [1]]))\n",
    "\n",
    "step = 0.01  # 1%\n",
    "stops = np.arange(step, 1 + step, step)\n",
    "\n",
    "pf = vbt.Portfolio.from_signals(df['close'], entries, exits,  direction='longonly', accumulate='addonly', sl_stop = sl,\n",
    "                                sl_trail = True, tp_stop = tp, fees = 0.00, freq = '4h')\n",
    "metric = 'positions.win_rate'\n",
    "pf_perf = pf.deep_getattr(metric)\n",
    "\n",
    "pf_perf.vbt.heatmap(xaxis_title = 'StopLoss',yaxis_title = 'TakeProfit')"
   ]
  }
 ],
 "metadata": {
  "kernelspec": {
   "display_name": "Python 3 (ipykernel)",
   "language": "python",
   "name": "python3"
  },
  "language_info": {
   "codemirror_mode": {
    "name": "ipython",
    "version": 3
   },
   "file_extension": ".py",
   "mimetype": "text/x-python",
   "name": "python",
   "nbconvert_exporter": "python",
   "pygments_lexer": "ipython3",
   "version": "3.11.3"
  }
 },
 "nbformat": 4,
 "nbformat_minor": 5
}
